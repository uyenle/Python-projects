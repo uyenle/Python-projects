{
 "cells": [
  {
   "cell_type": "code",
   "execution_count": 1,
   "metadata": {},
   "outputs": [],
   "source": [
    "from IPython.display import clear_output"
   ]
  },
  {
   "cell_type": "code",
   "execution_count": 2,
   "metadata": {},
   "outputs": [],
   "source": [
    "'''\n",
    "step 1: create the board\n",
    "'''\n",
    "def display_board(board):\n",
    "    clear_output()\n",
    "    print(board[7]+ '|'+ board[8]+ '|' + board[9])\n",
    "    print(board[4]+ '|'+ board[5]+ '|' + board[6])\n",
    "    print(board[1]+ '|'+ board[2]+ '|' + board[3])"
   ]
  },
  {
   "cell_type": "code",
   "execution_count": 3,
   "metadata": {},
   "outputs": [
    {
     "name": "stdout",
     "output_type": "stream",
     "text": [
      "x|o|x\n",
      "x|o|x\n",
      "x|o|x\n"
     ]
    }
   ],
   "source": [
    "'''\n",
    "test the board\n",
    "'''\n",
    "test_board = ['#', 'x', 'o', 'x', 'x', 'o', 'x', 'x', 'o', 'x']\n",
    "display_board(test_board)\n"
   ]
  },
  {
   "cell_type": "code",
   "execution_count": null,
   "metadata": {},
   "outputs": [],
   "source": [
    "'''\n",
    "Step 2: player input\n",
    "'''\n",
    "def player_input():\n",
    "    marker = ''\n",
    "    while marker != 'x' and marker != 'o':\n",
    "        marker = input('Player 1: choose x or o: ')\n",
    "    if marker == 'x':\n",
    "        return ('x', 'o')\n",
    "    else:\n",
    "        return ('o', 'x')"
   ]
  },
  {
   "cell_type": "code",
   "execution_count": null,
   "metadata": {},
   "outputs": [],
   "source": [
    "player1, player2 = player_input()"
   ]
  },
  {
   "cell_type": "code",
   "execution_count": null,
   "metadata": {},
   "outputs": [],
   "source": [
    "player2"
   ]
  },
  {
   "cell_type": "markdown",
   "metadata": {},
   "source": [
    "Step 3: choose object and position"
   ]
  },
  {
   "cell_type": "code",
   "execution_count": null,
   "metadata": {},
   "outputs": [],
   "source": [
    "def place_marker(board, marker, position):\n",
    "    board[position] = marker\n",
    "    "
   ]
  },
  {
   "cell_type": "markdown",
   "metadata": {},
   "source": [
    "Test step 3"
   ]
  },
  {
   "cell_type": "code",
   "execution_count": null,
   "metadata": {},
   "outputs": [],
   "source": [
    "test_board"
   ]
  },
  {
   "cell_type": "code",
   "execution_count": null,
   "metadata": {},
   "outputs": [],
   "source": [
    "place_marker(test_board,'#', 8 )\n",
    "display_board(test_board)"
   ]
  },
  {
   "cell_type": "markdown",
   "metadata": {},
   "source": [
    "Step 4: "
   ]
  },
  {
   "cell_type": "code",
   "execution_count": null,
   "metadata": {},
   "outputs": [],
   "source": [
    "def win_check(board, mark):\n",
    "    # all rows\n",
    "    return ((board[7] ==  board[8] ==  board[9] == mark) or  # all rows\n",
    "    (board[4] ==  board[5] ==  board[6] == mark) or \n",
    "    (board[1] ==  board[2] ==  board[3] == mark) or \n",
    "    (board[7] ==  board[4] ==  board[1] == mark) or  # all columns\n",
    "    (board[8] ==  board[5] ==  board[2] == mark) or \n",
    "    (board[9] ==  board[6] ==  board[3] == mark) or \n",
    "    (board[7] ==  board[5] ==  board[3] == mark) or     # all diagonals\n",
    "    (board[9] ==  board[5] ==  board[1] == mark))\n",
    "   \n"
   ]
  },
  {
   "cell_type": "code",
   "execution_count": null,
   "metadata": {},
   "outputs": [],
   "source": [
    "win_check(test_board,'x')"
   ]
  },
  {
   "cell_type": "markdown",
   "metadata": {},
   "source": [
    "Step 5: random function"
   ]
  },
  {
   "cell_type": "code",
   "execution_count": null,
   "metadata": {},
   "outputs": [],
   "source": [
    "import random\n",
    "\n",
    "def choose_first():\n",
    "    if random.randint(0, 1) == 0:\n",
    "        return 'Player 2'\n",
    "    else:\n",
    "        return 'Player 1'"
   ]
  },
  {
   "cell_type": "markdown",
   "metadata": {},
   "source": [
    "Step 6: "
   ]
  },
  {
   "cell_type": "code",
   "execution_count": null,
   "metadata": {},
   "outputs": [],
   "source": [
    "def space_check(board, position):\n",
    "    return board[position] == ''"
   ]
  },
  {
   "cell_type": "code",
   "execution_count": null,
   "metadata": {},
   "outputs": [],
   "source": [
    "def full_board(board):\n",
    "    for i in range (1,10):\n",
    "        if space_check(board,i):\n",
    "            return False\n",
    "    return True"
   ]
  },
  {
   "cell_type": "code",
   "execution_count": null,
   "metadata": {},
   "outputs": [],
   "source": [
    "def player_choice(board):\n",
    "    position = 0\n",
    "    while position not in [1,2,3,4,5,6,7,8,9] or not space_check(board, position):\n",
    "        position = int(input('Choose position between 1 -9'))\n",
    "        \n",
    "    return position"
   ]
  },
  {
   "cell_type": "code",
   "execution_count": null,
   "metadata": {},
   "outputs": [],
   "source": [
    "def replay():\n",
    "    choice = input('Play again?')\n",
    "    return choice == 'y'\n",
    "    "
   ]
  },
  {
   "cell_type": "markdown",
   "metadata": {},
   "source": [
    "Step 10:"
   ]
  },
  {
   "cell_type": "code",
   "execution_count": null,
   "metadata": {},
   "outputs": [],
   "source": [
    "print('Welcome to Tic Tac Toe')\n",
    "\n",
    "while True:\n",
    "    the_board = ['']*10\n",
    "    player1, player2 = player_input()\n",
    "    turn = choose_first()\n",
    "    print(turn + ' will go first')\n",
    "    \n",
    "    play_game = input('Ready?')\n",
    "    if play_game == 'y':\n",
    "        game_on = True\n",
    "    else:\n",
    "        game_on = False\n",
    "        \n",
    "    \n",
    "    while game_on:\n",
    "        if turn == 'player 1':\n",
    "            #show the board\n",
    "            display_board(the_board)\n",
    "            #choose position \n",
    "            position = player_choice(the_board)\n",
    "            #place marker in the position\n",
    "            place_marker(the_board, player1, position)\n",
    "            #check if won\n",
    "            if win_check(the_board, player1):\n",
    "                display_board(the_board)\n",
    "                print('player 1 won')\n",
    "                game_on = False\n",
    "            else:\n",
    "                if full_board(the_board):\n",
    "                    display_board(the_board)\n",
    "                    print('tie game')\n",
    "                    break \n",
    "                else:\n",
    "                    turn = 'player 2'\n",
    "        else:\n",
    "            #show the board\n",
    "            display_board(the_board)\n",
    "            #choose position \n",
    "            position = player_choice(the_board)\n",
    "            #place marker in the position\n",
    "            place_marker(the_board, player2, position)\n",
    "            #check if won\n",
    "            if win_check(the_board, player2):\n",
    "                display_board(the_board)\n",
    "                print('player 2  won')\n",
    "                game_on = False\n",
    "            else:\n",
    "                if full_board(the_board):\n",
    "                    display_board(the_board)\n",
    "                    print('tie game')\n",
    "                    break\n",
    "                else:\n",
    "                    turn = 'player 1'\n",
    "    if not replay():\n",
    "        break\n",
    "             \n",
    "            #check if tie\n",
    "            \n",
    "            #next player's turn \n"
   ]
  },
  {
   "cell_type": "code",
   "execution_count": null,
   "metadata": {},
   "outputs": [],
   "source": []
  },
  {
   "cell_type": "code",
   "execution_count": null,
   "metadata": {},
   "outputs": [],
   "source": []
  },
  {
   "cell_type": "code",
   "execution_count": null,
   "metadata": {},
   "outputs": [],
   "source": []
  },
  {
   "cell_type": "code",
   "execution_count": null,
   "metadata": {},
   "outputs": [],
   "source": []
  }
 ],
 "metadata": {
  "kernelspec": {
   "display_name": "Python 3",
   "language": "python",
   "name": "python3"
  },
  "language_info": {
   "codemirror_mode": {
    "name": "ipython",
    "version": 3
   },
   "file_extension": ".py",
   "mimetype": "text/x-python",
   "name": "python",
   "nbconvert_exporter": "python",
   "pygments_lexer": "ipython3",
   "version": "3.7.4"
  }
 },
 "nbformat": 4,
 "nbformat_minor": 2
}
